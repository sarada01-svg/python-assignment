{
 "cells": [
  {
   "cell_type": "markdown",
   "id": "1a5ecadf",
   "metadata": {},
   "source": [
    "# OOPS ASSIGNMENT"
   ]
  },
  {
   "cell_type": "markdown",
   "id": "4baee238",
   "metadata": {},
   "source": [
    "#1.\n",
    "\n",
    "in oops class are used to create objects.it defines properties of that objects that class will have.it is a user defined data type.\n",
    "\n",
    "object is an element of a classs, and it contains the behaviors of their class.\n",
    "\n",
    "example:\n"
   ]
  },
  {
   "cell_type": "code",
   "execution_count": 13,
   "id": "faf35699",
   "metadata": {},
   "outputs": [],
   "source": [
    "class student:  # creating class\n",
    "    def __init__(self,name,id):\n",
    "        self.name=name\n",
    "        self.id=id"
   ]
  },
  {
   "cell_type": "code",
   "execution_count": 14,
   "id": "b82e9e1b",
   "metadata": {},
   "outputs": [],
   "source": [
    "st=student(\"kjh\",5) #creating objects"
   ]
  },
  {
   "cell_type": "code",
   "execution_count": 15,
   "id": "dbf48706",
   "metadata": {},
   "outputs": [
    {
     "data": {
      "text/plain": [
       "'kjh'"
      ]
     },
     "execution_count": 15,
     "metadata": {},
     "output_type": "execute_result"
    }
   ],
   "source": [
    "st.name"
   ]
  },
  {
   "cell_type": "code",
   "execution_count": 16,
   "id": "932be887",
   "metadata": {},
   "outputs": [
    {
     "data": {
      "text/plain": [
       "5"
      ]
     },
     "execution_count": 16,
     "metadata": {},
     "output_type": "execute_result"
    }
   ],
   "source": [
    "st.id"
   ]
  },
  {
   "cell_type": "markdown",
   "id": "b1117cd6",
   "metadata": {},
   "source": [
    "#2\n",
    "\n",
    "four pillars of oops are abstraction,encapsulation,inheritance and polymorphism\n"
   ]
  },
  {
   "cell_type": "markdown",
   "id": "fbc9eac8",
   "metadata": {},
   "source": [
    "#3\n",
    "\n",
    "__init__ function is used to initialize the attributes of created object.allow you to set up initial statepf the object by giving values for its attributes.\n",
    "\n",
    "example:"
   ]
  },
  {
   "cell_type": "code",
   "execution_count": 17,
   "id": "d7b46ac5",
   "metadata": {},
   "outputs": [],
   "source": [
    "class student:\n",
    "    def __init__(self,name,id):\n",
    "        self.name=name\n",
    "        self.id=id"
   ]
  },
  {
   "cell_type": "markdown",
   "id": "303a3658",
   "metadata": {},
   "source": [
    "#4\n",
    "\n",
    "self is used to represent instance of the class.using self we can access the attributes and methods of the class.and pass the arguments to the class."
   ]
  },
  {
   "cell_type": "markdown",
   "id": "f26efac6",
   "metadata": {},
   "source": [
    "#5\n",
    "inheritance allows new class to inherit attributes and methods from a exsting class.inheritance are two types :one is multiple inheritance and other one is multilevel inheritance.\n"
   ]
  },
  {
   "cell_type": "code",
   "execution_count": 19,
   "id": "241b58e1",
   "metadata": {},
   "outputs": [],
   "source": [
    "#example of multiple inheritance\n",
    "\n",
    "class class1:\n",
    "    def test_class1(self):\n",
    "        print(\"this is my class1\")"
   ]
  },
  {
   "cell_type": "code",
   "execution_count": 23,
   "id": "d5b1242d",
   "metadata": {},
   "outputs": [],
   "source": [
    "class class2:\n",
    "    def test_class2(self):\n",
    "        print(\"this is my second class\")"
   ]
  },
  {
   "cell_type": "code",
   "execution_count": 24,
   "id": "fea440fa",
   "metadata": {},
   "outputs": [],
   "source": [
    "class class3(class1,class2):\n",
    "    pass"
   ]
  },
  {
   "cell_type": "code",
   "execution_count": 26,
   "id": "2ed204f5",
   "metadata": {},
   "outputs": [],
   "source": [
    "#example of multilevel inheritance:\n",
    "\n",
    "\n",
    "\n",
    "class class1:\n",
    "    def test_class1(self):\n",
    "        print(\"this is my class1\")\n",
    "    "
   ]
  },
  {
   "cell_type": "code",
   "execution_count": 27,
   "id": "8142f80c",
   "metadata": {},
   "outputs": [],
   "source": [
    "class class2(class1):\n",
    "    def test_class2(self):\n",
    "        print(\"this is my class2\")"
   ]
  },
  {
   "cell_type": "code",
   "execution_count": 28,
   "id": "28f69c40",
   "metadata": {},
   "outputs": [],
   "source": [
    "class class3(class2):\n",
    "    def test_class3(self):\n",
    "        print(\"this is my class3\")"
   ]
  },
  {
   "cell_type": "code",
   "execution_count": null,
   "id": "b7d5f2c0",
   "metadata": {},
   "outputs": [],
   "source": []
  }
 ],
 "metadata": {
  "kernelspec": {
   "display_name": "Python 3 (ipykernel)",
   "language": "python",
   "name": "python3"
  },
  "language_info": {
   "codemirror_mode": {
    "name": "ipython",
    "version": 3
   },
   "file_extension": ".py",
   "mimetype": "text/x-python",
   "name": "python",
   "nbconvert_exporter": "python",
   "pygments_lexer": "ipython3",
   "version": "3.11.5"
  }
 },
 "nbformat": 4,
 "nbformat_minor": 5
}

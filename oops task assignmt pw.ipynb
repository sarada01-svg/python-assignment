{
 "cells": [
  {
   "cell_type": "code",
   "execution_count": 1,
   "id": "ba475345",
   "metadata": {},
   "outputs": [],
   "source": [
    "#1\n",
    "\n",
    "class vehicle:\n",
    "    def __init__(self,name_of_vehicle,max_speed,average_of_vehicle):\n",
    "        self.name_of_vehicle=name_of_vehicle\n",
    "        self.max_speed=max_speed\n",
    "        self.average_of_vehicle=average_of_vehicle\n",
    "        \n",
    "        "
   ]
  },
  {
   "cell_type": "code",
   "execution_count": 2,
   "id": "a50b73b9",
   "metadata": {},
   "outputs": [],
   "source": [
    "car=vehicle(\"fortuner\",101,50)"
   ]
  },
  {
   "cell_type": "code",
   "execution_count": 4,
   "id": "e1349217",
   "metadata": {},
   "outputs": [
    {
     "data": {
      "text/plain": [
       "'fortuner'"
      ]
     },
     "execution_count": 4,
     "metadata": {},
     "output_type": "execute_result"
    }
   ],
   "source": [
    "car.name_of_vehicle"
   ]
  },
  {
   "cell_type": "code",
   "execution_count": 23,
   "id": "9e85ab8f",
   "metadata": {},
   "outputs": [],
   "source": [
    "#2\n",
    "\n",
    "class car(vehicle):\n",
    "    def __init__(self,name_of_vehicle,max_speed,average_of_vehicle):\n",
    "        self.name_of_vehicle=name_of_vehicle\n",
    "        self.max_speed=max_speed\n",
    "        self.average_of_vehicle=average_of_vehicle\n",
    "        \n",
    "    \n",
    "    def seating_capacity(self,capacity):\n",
    "        return f\"{self.name_of_vehicle} has a capacity{capacity}\"\n",
    "        \n",
    "    "
   ]
  },
  {
   "cell_type": "code",
   "execution_count": 24,
   "id": "5b62d65c",
   "metadata": {},
   "outputs": [],
   "source": [
    "car1=car(\"toyata\",50,20)\n"
   ]
  },
  {
   "cell_type": "code",
   "execution_count": 26,
   "id": "b3570aad",
   "metadata": {},
   "outputs": [
    {
     "name": "stdout",
     "output_type": "stream",
     "text": [
      "toyata has a capacity5\n"
     ]
    }
   ],
   "source": [
    "print(car1.seating_capacity(5))"
   ]
  },
  {
   "cell_type": "code",
   "execution_count": 28,
   "id": "e2821bc5",
   "metadata": {},
   "outputs": [],
   "source": [
    "#3\n",
    "# a subclass can inherit from two or more superclasses is called multiple inheritance\n",
    "\n",
    "\n",
    "class test1:\n",
    "    def text1(self):\n",
    "        print(\"this is text1\")\n"
   ]
  },
  {
   "cell_type": "code",
   "execution_count": 30,
   "id": "5f1e127e",
   "metadata": {},
   "outputs": [],
   "source": [
    "class test2:\n",
    "    def text2(self):\n",
    "        print(\"this is text2\")"
   ]
  },
  {
   "cell_type": "code",
   "execution_count": 31,
   "id": "159af869",
   "metadata": {},
   "outputs": [],
   "source": [
    "class test3(test1,test2):\n",
    "    pass"
   ]
  },
  {
   "cell_type": "code",
   "execution_count": 32,
   "id": "cdff0ed4",
   "metadata": {},
   "outputs": [],
   "source": [
    "obj_test3=test3()"
   ]
  },
  {
   "cell_type": "code",
   "execution_count": 34,
   "id": "45cab507",
   "metadata": {},
   "outputs": [
    {
     "name": "stdout",
     "output_type": "stream",
     "text": [
      "this is text2\n"
     ]
    }
   ],
   "source": [
    "obj_test3.text2()"
   ]
  },
  {
   "cell_type": "code",
   "execution_count": 36,
   "id": "3b40f209",
   "metadata": {},
   "outputs": [
    {
     "name": "stdout",
     "output_type": "stream",
     "text": [
      "this is text1\n"
     ]
    }
   ],
   "source": [
    "obj_test3.text1()"
   ]
  },
  {
   "cell_type": "code",
   "execution_count": 49,
   "id": "41fb4365",
   "metadata": {},
   "outputs": [],
   "source": [
    "#4\n",
    "\n",
    "# getter are used to retrieve the value of an attribute\n",
    "#setter are used to modify or set the value of an attribute\n",
    "\n",
    "\n",
    "class xyz:\n",
    "    def __init__(self,var):\n",
    "        self.var=var\n",
    "        \n",
    "    def get_variable(self):\n",
    "        return self.var\n",
    "    def set_variable(self,var1):\n",
    "        self.var=var1\n",
    "        \n"
   ]
  },
  {
   "cell_type": "code",
   "execution_count": 50,
   "id": "b3ff1d25",
   "metadata": {},
   "outputs": [],
   "source": [
    "obj=xyz(\"abcd\")"
   ]
  },
  {
   "cell_type": "code",
   "execution_count": 51,
   "id": "f39f9cdd",
   "metadata": {},
   "outputs": [
    {
     "data": {
      "text/plain": [
       "'abcd'"
      ]
     },
     "execution_count": 51,
     "metadata": {},
     "output_type": "execute_result"
    }
   ],
   "source": [
    "obj.get_variable()"
   ]
  },
  {
   "cell_type": "code",
   "execution_count": 52,
   "id": "3b846487",
   "metadata": {},
   "outputs": [],
   "source": [
    "obj.set_variable(\"hdksjdksj\")"
   ]
  },
  {
   "cell_type": "code",
   "execution_count": 54,
   "id": "252cc05a",
   "metadata": {},
   "outputs": [
    {
     "data": {
      "text/plain": [
       "'hdksjdksj'"
      ]
     },
     "execution_count": 54,
     "metadata": {},
     "output_type": "execute_result"
    }
   ],
   "source": [
    "obj.get_variable()"
   ]
  },
  {
   "cell_type": "code",
   "execution_count": null,
   "id": "4a353ff4",
   "metadata": {},
   "outputs": [],
   "source": [
    "#5\n",
    "# Method overriding allows you to redefine a method in a subclass or the derived class"
   ]
  },
  {
   "cell_type": "code",
   "execution_count": 55,
   "id": "c86f0aa5",
   "metadata": {},
   "outputs": [],
   "source": [
    "class car:\n",
    "    def name(self):\n",
    "        print(\"toyata\")\n",
    "        "
   ]
  },
  {
   "cell_type": "code",
   "execution_count": 56,
   "id": "276fd93d",
   "metadata": {},
   "outputs": [],
   "source": [
    "class truck(car):\n",
    "    def name(self):\n",
    "        print(\"mahedra\")"
   ]
  },
  {
   "cell_type": "code",
   "execution_count": 57,
   "id": "cc854ea8",
   "metadata": {},
   "outputs": [],
   "source": [
    "class train(car):\n",
    "    def name(self):\n",
    "        print(\"express\")"
   ]
  },
  {
   "cell_type": "code",
   "execution_count": 58,
   "id": "278b7672",
   "metadata": {},
   "outputs": [],
   "source": [
    "t=truck()"
   ]
  },
  {
   "cell_type": "code",
   "execution_count": 59,
   "id": "8990cb56",
   "metadata": {},
   "outputs": [
    {
     "name": "stdout",
     "output_type": "stream",
     "text": [
      "mahedra\n"
     ]
    }
   ],
   "source": [
    "t.name()"
   ]
  },
  {
   "cell_type": "code",
   "execution_count": 60,
   "id": "1052fdf6",
   "metadata": {},
   "outputs": [],
   "source": [
    "tr=train()"
   ]
  },
  {
   "cell_type": "code",
   "execution_count": 62,
   "id": "a69947f2",
   "metadata": {},
   "outputs": [
    {
     "name": "stdout",
     "output_type": "stream",
     "text": [
      "express\n"
     ]
    }
   ],
   "source": [
    "tr.name()"
   ]
  },
  {
   "cell_type": "code",
   "execution_count": 63,
   "id": "0ffa8630",
   "metadata": {},
   "outputs": [],
   "source": [
    "c=car()"
   ]
  },
  {
   "cell_type": "code",
   "execution_count": 65,
   "id": "8f7252cc",
   "metadata": {},
   "outputs": [
    {
     "name": "stdout",
     "output_type": "stream",
     "text": [
      "toyata\n"
     ]
    }
   ],
   "source": [
    "c.name()"
   ]
  },
  {
   "cell_type": "code",
   "execution_count": null,
   "id": "4c13bab1",
   "metadata": {},
   "outputs": [],
   "source": []
  }
 ],
 "metadata": {
  "kernelspec": {
   "display_name": "Python 3 (ipykernel)",
   "language": "python",
   "name": "python3"
  },
  "language_info": {
   "codemirror_mode": {
    "name": "ipython",
    "version": 3
   },
   "file_extension": ".py",
   "mimetype": "text/x-python",
   "name": "python",
   "nbconvert_exporter": "python",
   "pygments_lexer": "ipython3",
   "version": "3.11.5"
  }
 },
 "nbformat": 4,
 "nbformat_minor": 5
}

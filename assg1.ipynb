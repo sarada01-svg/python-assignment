{
 "cells": [
  {
   "cell_type": "code",
   "execution_count": 3,
   "id": "b0ad5dab-ec49-4577-b6d5-d870be6bf1e0",
   "metadata": {},
   "outputs": [
    {
     "name": "stdout",
     "output_type": "stream",
     "text": [
      "string is abcd\n"
     ]
    }
   ],
   "source": [
    "a=(\"abcd\")\n",
    "print(\"string is\",a)"
   ]
  },
  {
   "cell_type": "code",
   "execution_count": 6,
   "id": "32ef2eb4-517b-444b-bb87-553ba4d82008",
   "metadata": {},
   "outputs": [
    {
     "name": "stdout",
     "output_type": "stream",
     "text": [
      "['abf', 2, 2.4, (2+5j)]\n"
     ]
    }
   ],
   "source": [
    "l=[\"abf\",2,2.4,2+5j]\n",
    "print(l)"
   ]
  },
  {
   "cell_type": "code",
   "execution_count": 7,
   "id": "bf5e4e64-2138-4621-b584-3ac0b6534fd8",
   "metadata": {},
   "outputs": [
    {
     "name": "stdout",
     "output_type": "stream",
     "text": [
      "3.4\n"
     ]
    }
   ],
   "source": [
    "a=3.4\n",
    "print(a)"
   ]
  },
  {
   "cell_type": "code",
   "execution_count": 8,
   "id": "8d18ea07-a00f-439a-bdb9-515663e8eccb",
   "metadata": {},
   "outputs": [
    {
     "name": "stdout",
     "output_type": "stream",
     "text": [
      "(63, 25)\n"
     ]
    }
   ],
   "source": [
    "t=(63,25)\n",
    "print(t)"
   ]
  },
  {
   "cell_type": "code",
   "execution_count": 14,
   "id": "bb468613-0ffd-479c-b038-ccf5ec9c04e9",
   "metadata": {},
   "outputs": [
    {
     "data": {
      "text/plain": [
       "float"
      ]
     },
     "execution_count": 14,
     "metadata": {},
     "output_type": "execute_result"
    }
   ],
   "source": [
    " var1 = ' '\n",
    "var2 = '[ DS , ML , Python]'\n",
    "var3 = [ 'DS' , 'ML’' , 'Python' ]\n",
    "var4 =1.\n",
    "type(var1)\n",
    "type(var2)\n",
    "type(var3)\n",
    "type(var4)\n",
    "\n"
   ]
  },
  {
   "cell_type": "code",
   "execution_count": 19,
   "id": "2edff491-6666-4010-ad5a-99c4e14dbacb",
   "metadata": {},
   "outputs": [
    {
     "name": "stdin",
     "output_type": "stream",
     "text": [
      "enter a number 3\n",
      "enter another number 3\n"
     ]
    },
    {
     "name": "stdout",
     "output_type": "stream",
     "text": [
      "1.0\n",
      "0\n",
      "1\n",
      "27\n"
     ]
    }
   ],
   "source": [
    "a=int(input(\"enter a number\"))\n",
    "b=int(input(\"enter another number\"))\n",
    "D=a/b\n",
    "print(D)\n",
    "P=a%b\n",
    "print(P)\n",
    "Y=a//b\n",
    "print(Y)\n",
    "S=a**b\n",
    "print(S)\n"
   ]
  },
  {
   "cell_type": "code",
   "execution_count": 57,
   "id": "fe97def8-6b34-4243-b730-4236dfc1d96c",
   "metadata": {},
   "outputs": [
    {
     "name": "stdout",
     "output_type": "stream",
     "text": [
      "string\n",
      "<class 'str'>\n",
      "1\n",
      "<class 'int'>\n",
      "2\n",
      "<class 'int'>\n",
      "3\n",
      "<class 'int'>\n",
      "abcdergg\n",
      "<class 'str'>\n",
      "(3+5j)\n",
      "<class 'complex'>\n",
      "(3+2j)\n",
      "<class 'complex'>\n",
      "2.5\n",
      "<class 'float'>\n",
      "6.25\n",
      "<class 'float'>\n",
      "5\n",
      "<class 'int'>\n"
     ]
    }
   ],
   "source": [
    "l=[\"string\",1,2,3,\"abcdergg\",3+5j,3+2j,2.5,6.25,5]\n",
    "for j in l:\n",
    "    print(j)\n",
    "    print(type(j))\n",
    "    "
   ]
  },
  {
   "cell_type": "code",
   "execution_count": 73,
   "id": "f4a3e163-e951-4e3f-9e2c-b039a80c7068",
   "metadata": {},
   "outputs": [
    {
     "name": "stdout",
     "output_type": "stream",
     "text": [
      "not purely\n"
     ]
    }
   ],
   "source": [
    "a=6\n",
    "b=6\n",
    "count=0\n",
    "while a%b==0:\n",
    "                 a=a//b\n",
    "                 count+=1\n",
    "if a==0:\n",
    "    print(\"purely divisible\")\n",
    "else:\n",
    "    print(\"not purely\")"
   ]
  },
  {
   "cell_type": "code",
   "execution_count": 75,
   "id": "6c05335a-9d70-4aad-9d0d-b2a5afb13499",
   "metadata": {},
   "outputs": [
    {
     "name": "stdout",
     "output_type": "stream",
     "text": [
      "not divisible\n",
      "not divisible\n",
      "divisible\n",
      "not divisible\n",
      "not divisible\n",
      "divisible\n",
      "not divisible\n",
      "not divisible\n",
      "divisible\n",
      "not divisible\n",
      "not divisible\n",
      "divisible\n",
      "not divisible\n",
      "not divisible\n",
      "divisible\n",
      "not divisible\n",
      "not divisible\n",
      "divisible\n",
      "not divisible\n",
      "not divisible\n",
      "divisible\n",
      "not divisible\n",
      "not divisible\n",
      "divisible\n",
      "not divisible\n"
     ]
    }
   ],
   "source": [
    "l=[1,2,3,4,5,6,7,8,9,10,11,12,13,14,15,16,17,18,19,20,21,22,23,24,25]\n",
    "for i in l:\n",
    "    if i%3==0:\n",
    "        print(\"divisible\")\n",
    "    else:\n",
    "        print(\"not divisible\")"
   ]
  },
  {
   "cell_type": "code",
   "execution_count": 78,
   "id": "d2850b58-274b-473b-8a93-754c4264110a",
   "metadata": {},
   "outputs": [],
   "source": [
    "#mutable datatypes are those we an change in particular index and imutability are those we can not change anty index#\n",
    "l = [1, 2, 3]\n",
    "l.append(4)\n",
    "\n",
    "m = \"Hello\"\n",
    "m += \", World!\" \n",
    "\n"
   ]
  },
  {
   "cell_type": "code",
   "execution_count": null,
   "id": "b2575ff0-f642-4063-82ea-293f88cfcde5",
   "metadata": {},
   "outputs": [],
   "source": []
  },
  {
   "cell_type": "code",
   "execution_count": null,
   "id": "53623b13-e1e7-4247-a415-e2ede9c80e9f",
   "metadata": {},
   "outputs": [],
   "source": []
  }
 ],
 "metadata": {
  "kernelspec": {
   "display_name": "Python 3 (ipykernel)",
   "language": "python",
   "name": "python3"
  },
  "language_info": {
   "codemirror_mode": {
    "name": "ipython",
    "version": 3
   },
   "file_extension": ".py",
   "mimetype": "text/x-python",
   "name": "python",
   "nbconvert_exporter": "python",
   "pygments_lexer": "ipython3",
   "version": "3.10.8"
  }
 },
 "nbformat": 4,
 "nbformat_minor": 5
}

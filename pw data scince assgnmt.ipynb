{
 "cells": [
  {
   "cell_type": "raw",
   "id": "6f097196",
   "metadata": {},
   "source": [
    "1- There are several methods to comment code in python.Like single line comment,multipleline comment and docstring comments.example-\n",
    "# is used for single line comments and starting with \"\"\" and ending with \"\"\"used for multiple line comments. and also '''sample text''' are used."
   ]
  },
  {
   "cell_type": "raw",
   "id": "9f7531c4",
   "metadata": {},
   "source": [
    "2- There are several variables in                     setpython,example:Integer,FLoat,String,Boolean.\n",
    " we can declared and assigine a variable in a single line like:\n",
    " varibale_name=value ,value can be like: string,integer,floating number or a   boolean variable.\n",
    " let:\n",
    " x=6\n",
    " y=6.3\n",
    " z=\"name\"\n",
    " t=False"
   ]
  },
  {
   "cell_type": "code",
   "execution_count": 1,
   "id": "a6d68e5a",
   "metadata": {},
   "outputs": [
    {
     "name": "stdout",
     "output_type": "stream",
     "text": [
      "[1, 2, 3]\n"
     ]
    }
   ],
   "source": [
    "'''3-  There are Two types of data conversion in python.One is explict and other one is Implicit.\n",
    "Implict type conversion:\n",
    "        in python it automatically converts one data type to another data type         without user involvement. \n",
    "Explicit:\n",
    "    Here we use some specific function:Like-int(),float(),str(),bool(),list(),etc'''\n",
    "\n",
    "tuple=(1,2,3)\n",
    "list=list(tuple)\n",
    "print(list)     "
   ]
  },
  {
   "cell_type": "raw",
   "id": "18db1d8e",
   "metadata": {},
   "source": [
    "4-  open a command line and type the word \"python\" followed by the path to your script file.ex:\n",
    " python first_script.py\n",
    " hello_world\n",
    " \n",
    "then press enter key."
   ]
  },
  {
   "cell_type": "code",
   "execution_count": 7,
   "id": "0e566389",
   "metadata": {},
   "outputs": [
    {
     "name": "stdout",
     "output_type": "stream",
     "text": [
      "[2, 3]\n"
     ]
    }
   ],
   "source": [
    "# 5- \n",
    "\n",
    "my_list=[1,2,3,4,5]\n",
    "sub_list=my_list[1:3]\n",
    "print(sub_list)\n"
   ]
  },
  {
   "cell_type": "code",
   "execution_count": 9,
   "id": "cc17c5c0",
   "metadata": {},
   "outputs": [
    {
     "name": "stdout",
     "output_type": "stream",
     "text": [
      "(3+5j)\n"
     ]
    }
   ],
   "source": [
    "\"\"\"6/\n",
    "- in mathematics,a complex number is represented as \"a+bi\".where a is a and b are real and i is imaginary number.\n",
    "\n",
    "in python complex number are represented as complex(),and also represented by using j in imginary part.\"\"\"\n",
    "\n",
    "z=complex(3,5)\n",
    "print(z)"
   ]
  },
  {
   "cell_type": "code",
   "execution_count": 10,
   "id": "b0cb7b32",
   "metadata": {},
   "outputs": [],
   "source": [
    "age=25"
   ]
  },
  {
   "cell_type": "code",
   "execution_count": 11,
   "id": "470d1d70",
   "metadata": {},
   "outputs": [
    {
     "data": {
      "text/plain": [
       "25"
      ]
     },
     "execution_count": 11,
     "metadata": {},
     "output_type": "execute_result"
    }
   ],
   "source": [
    "age\n"
   ]
  },
  {
   "cell_type": "code",
   "execution_count": 12,
   "id": "77e6d795",
   "metadata": {},
   "outputs": [
    {
     "data": {
      "text/plain": [
       "float"
      ]
     },
     "execution_count": 12,
     "metadata": {},
     "output_type": "execute_result"
    }
   ],
   "source": [
    "price=9.99\n",
    "type(price)"
   ]
  },
  {
   "cell_type": "code",
   "execution_count": 13,
   "id": "92a71a7d",
   "metadata": {},
   "outputs": [
    {
     "name": "stdout",
     "output_type": "stream",
     "text": [
      "sarada saumyadarshini\n"
     ]
    }
   ],
   "source": [
    "name=\"sarada saumyadarshini\"\n",
    "print(name)"
   ]
  },
  {
   "cell_type": "code",
   "execution_count": 16,
   "id": "5cd73ad5",
   "metadata": {},
   "outputs": [
    {
     "name": "stdout",
     "output_type": "stream",
     "text": [
      "world\n"
     ]
    }
   ],
   "source": [
    "x=\"hello world!\"\n",
    "\n",
    "sub_string=x[6:11]\n",
    "print(sub_string)\n"
   ]
  },
  {
   "cell_type": "code",
   "execution_count": 18,
   "id": "ae13ae1e",
   "metadata": {},
   "outputs": [
    {
     "name": "stdout",
     "output_type": "stream",
     "text": [
      "True\n"
     ]
    }
   ],
   "source": [
    "is_student=True\n",
    "print(is_student)\n"
   ]
  },
  {
   "cell_type": "code",
   "execution_count": null,
   "id": "f3b140fe",
   "metadata": {},
   "outputs": [],
   "source": []
  },
  {
   "cell_type": "code",
   "execution_count": null,
   "id": "ee800d5a",
   "metadata": {},
   "outputs": [],
   "source": []
  }
 ],
 "metadata": {
  "kernelspec": {
   "display_name": "Python 3 (ipykernel)",
   "language": "python",
   "name": "python3"
  },
  "language_info": {
   "codemirror_mode": {
    "name": "ipython",
    "version": 3
   },
   "file_extension": ".py",
   "mimetype": "text/x-python",
   "name": "python",
   "nbconvert_exporter": "python",
   "pygments_lexer": "ipython3",
   "version": "3.11.5"
  }
 },
 "nbformat": 4,
 "nbformat_minor": 5
}
